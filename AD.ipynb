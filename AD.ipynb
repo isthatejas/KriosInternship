{
 "cells": [
  {
   "cell_type": "code",
   "execution_count": 1,
   "id": "a0af291a-44f8-4133-aa56-1ecc281c6997",
   "metadata": {},
   "outputs": [],
   "source": [
    "import speech_recognition as sr"
   ]
  },
  {
   "cell_type": "code",
   "execution_count": 4,
   "id": "e2b89bf7-fd13-4352-b0c8-92bd85b94ab0",
   "metadata": {},
   "outputs": [],
   "source": [
    "wav_file_path = \"male.wav\"\n",
    "r = sr.Recognizer()"
   ]
  },
  {
   "cell_type": "code",
   "execution_count": 3,
   "id": "461a22da-f23a-436d-9300-a1c61ec58353",
   "metadata": {},
   "outputs": [
    {
     "name": "stdout",
     "output_type": "stream",
     "text": [
      "Transcribing...\n",
      "You said: what if somebody decides to break it be careful that you keep adequate coverage but look for places to save money maybe it's taking longer to get things squared away then the bankers expected hiring the way for one's company may when her tax rate retirement income the boost to help the savings or hardly tossed on the two naked bones what it discussion can include when the title of this type of song is in question there is no dying or waxing or gasing needed may be personalized\n"
     ]
    }
   ],
   "source": [
    "with sr.AudioFile(wav_file_path) as source:\n",
    "    print(\"Transcribing...\")\n",
    "    audio = r.record(source)\n",
    "try:\n",
    "    text = r.recognize_google(audio)\n",
    "    print(\"You said: {}\".format(text))\n",
    "except sr.UnknownValueError:\n",
    "    print(\"Could not understand audio\")\n",
    "except sr.RequestError as e:\n",
    "    print(\"Could not request results from Google Speech Recognition service; {0}\".format(e))"
   ]
  },
  {
   "cell_type": "code",
   "execution_count": null,
   "id": "5e80a2db-fa7e-4b96-a9c6-7263be6c13fe",
   "metadata": {},
   "outputs": [],
   "source": []
  }
 ],
 "metadata": {
  "kernelspec": {
   "display_name": "Python 3 (ipykernel)",
   "language": "python",
   "name": "python3"
  },
  "language_info": {
   "codemirror_mode": {
    "name": "ipython",
    "version": 3
   },
   "file_extension": ".py",
   "mimetype": "text/x-python",
   "name": "python",
   "nbconvert_exporter": "python",
   "pygments_lexer": "ipython3",
   "version": "3.12.3"
  }
 },
 "nbformat": 4,
 "nbformat_minor": 5
}
