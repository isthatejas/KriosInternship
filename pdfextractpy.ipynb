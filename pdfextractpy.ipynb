{
 "cells": [
  {
   "cell_type": "code",
   "execution_count": 1,
   "id": "ec9d8c01-4511-491c-883a-75b11e8e7a13",
   "metadata": {},
   "outputs": [],
   "source": [
    "import re\n",
    "import PyPDF2"
   ]
  },
  {
   "cell_type": "code",
   "execution_count": 2,
   "id": "1742098a-53fd-420b-a826-61621ad55dc3",
   "metadata": {},
   "outputs": [],
   "source": [
    "extracted_fields = {}\n",
    "field_names = [\"Account No.\", \n",
    "               \"Value Date\", \n",
    "               \"Customer Ref. No.\", \n",
    "               \"Bank Reference No.\", \n",
    "               \"Beneficiary Name\",\n",
    "               \"Beneficiary Code\", \n",
    "               \"Beneficiary Account No.\",\n",
    "               \"Payment Document No.\",\n",
    "               \"UTR No.\",\n",
    "               \"Email IDs\", \"Payment Mode\"]"
   ]
  },
  {
   "cell_type": "code",
   "execution_count": 3,
   "id": "548af889-6156-4363-8576-0f0379d32c60",
   "metadata": {},
   "outputs": [],
   "source": [
    "with open(\"ICICI bank.pdf\", \"rb\") as pdf_file:\n",
    "    pdf_reader = PyPDF2.PdfReader(pdf_file)\n",
    "    for page_num in range(len(pdf_reader.pages)):\n",
    "        page = pdf_reader.pages[page_num]\n",
    "        page_text = page.extract_text()\n",
    "\n",
    "    for field_name in field_names:\n",
    "        if field_name == \"Account No.\":\n",
    "            pattern = r\"Account No. :\\s+(.+?)\\s\"\n",
    "        if field_name == \"Customer Ref. No.\":\n",
    "            pattern = r\"Customer Ref. No. :\\s+(.+?)\\s\"\n",
    "        if field_name == \"Value Date\":\n",
    "            pattern = r\"Value Date :\\s+(.+?)\\s\"\n",
    "        if field_name == \"Beneficiary Name\":\n",
    "            pattern = r\"Beneficiary Name\\s*:\\s*([A-Z\\s]+)\\s*Payment Document No.\"\n",
    "        if field_name == \"Payment Document No.\":\n",
    "            pattern = r\"Payment Document No. :\\s+(.+?)\\s\"\n",
    "        if field_name == \"Beneficiary Code\":\n",
    "            pattern = r\"Beneficiary Code :+(.+?)\\s\"\n",
    "        if field_name == \"Beneficiary Account No.\":\n",
    "            pattern = r\"Beneficiary Account No. :\\s+(.+?)\\s\"\n",
    "        if field_name == \"Bank Reference No.\":\n",
    "            pattern = r\"Bank Reference No. :\\s+(.+?)\\s\"\n",
    "        if field_name == \"UTR No.\":\n",
    "            pattern = r\"UTR No. :\\s+(.+?)\\s\"\n",
    "        if field_name == \"Email IDs\":\n",
    "            pattern = r\"Email IDs :+(.+?)\\s\"\n",
    "        if field_name == \"Payment Mode\":\n",
    "            pattern = r\"Payment Mode :\\s+(.+?)\\s\"\n",
    "        match = re.search(pattern, page_text)\n",
    "        if match:\n",
    "            extracted_fields[field_name] = match.group(1).strip()"
   ]
  },
  {
   "cell_type": "code",
   "execution_count": 4,
   "id": "5b28385b-b738-462f-9193-476564619267",
   "metadata": {},
   "outputs": [
    {
     "name": "stdout",
     "output_type": "stream",
     "text": [
      "\n",
      "Following are the extracted fields with their values from the generated invoice:\n",
      "\n",
      "Account No.  :  XXXXXXXX4161\n",
      "Value Date  :  06-Jul-2023\n",
      "Customer Ref. No.  :  509826060\n",
      "Bank Reference No.  :  CMS3393259461\n",
      "Beneficiary Name  :  KRIOS INFO SOLUTIONS PRIVATE LIMITE\n",
      "Beneficiary Code  :  4000004229\n",
      "Beneficiary Account No.  :  XXXXXXXXXX9984\n",
      "Payment Document No.  :  200002235120232000\n",
      "UTR No.  :  CMS3393259461\n",
      "Email IDs  :  YOGESH.DASPUTE@KRIOSISPL.COM\n",
      "Payment Mode  :  NEFT\n",
      "\n",
      "\n"
     ]
    }
   ],
   "source": [
    "print(\"\\nFollowing are the extracted fields with their values from the generated invoice:\\n\")\n",
    "for key in extracted_fields:\n",
    "    print(key,\" : \",extracted_fields[key])\n",
    "print(\"\\n\")"
   ]
  }
 ],
 "metadata": {
  "kernelspec": {
   "display_name": "Python 3 (ipykernel)",
   "language": "python",
   "name": "python3"
  },
  "language_info": {
   "codemirror_mode": {
    "name": "ipython",
    "version": 3
   },
   "file_extension": ".py",
   "mimetype": "text/x-python",
   "name": "python",
   "nbconvert_exporter": "python",
   "pygments_lexer": "ipython3",
   "version": "3.12.3"
  }
 },
 "nbformat": 4,
 "nbformat_minor": 5
}
