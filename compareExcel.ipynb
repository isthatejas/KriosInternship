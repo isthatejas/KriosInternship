{
 "cells": [
  {
   "cell_type": "code",
   "execution_count": 1,
   "id": "67a756d5-a8c5-4d93-9ce3-099831c8b50f",
   "metadata": {},
   "outputs": [],
   "source": [
    "import pandas as pd"
   ]
  },
  {
   "cell_type": "code",
   "execution_count": 2,
   "id": "5eb8f0f6-bf0b-4f4c-bda6-9bac8f90f6d3",
   "metadata": {},
   "outputs": [],
   "source": [
    "def compare_excel_files(file1, file2):\n",
    "  df1 = pd.read_excel(file1)\n",
    "  df2 = pd.read_excel(file2)\n",
    "  # check if same columns\n",
    "  if not df1.columns.tolist() == df2.columns.tolist():\n",
    "    raise ValueError(\"Excel files have different columns\")\n",
    "  # mismatched rows\n",
    "  mismatched_data = []\n",
    "  for col in df1.columns:\n",
    "    for idx in df1.index:\n",
    "      if df1.loc[idx, col] != df2.loc[idx, col]:\n",
    "        mismatched_data.append({\n",
    "          'Row': idx + 1,\n",
    "          'Column': col,\n",
    "          'File 1 Value': df1.loc[idx, col],\n",
    "          'File 2 Value': df2.loc[idx, col]\n",
    "        })\n",
    "  if mismatched_data:\n",
    "    return pd.DataFrame(mismatched_data)\n",
    "  else:\n",
    "    print(\"No mismatched data found!\")\n",
    "    return None"
   ]
  },
  {
   "cell_type": "code",
   "execution_count": 3,
   "id": "566f71f8-6356-462b-9a6b-2520466bad5f",
   "metadata": {},
   "outputs": [
    {
     "name": "stdout",
     "output_type": "stream",
     "text": [
      "Mismatched data:\n",
      "    Row      Column         File 1 Value         File 2 Value\n",
      "0     7   OrderDate  2019-03-24 00:00:00  2018-04-18 00:00:00\n",
      "1     8   OrderDate  2019-04-10 00:00:00  2018-05-05 00:00:00\n",
      "2     9   OrderDate  2019-04-27 00:00:00  2018-05-22 00:00:00\n",
      "3    10   OrderDate  2019-05-14 00:00:00  2018-06-08 00:00:00\n",
      "4    11   OrderDate  2019-05-31 00:00:00  2018-06-25 00:00:00\n",
      "5    12   OrderDate  2019-06-17 00:00:00  2018-07-12 00:00:00\n",
      "6    13   OrderDate  2019-07-04 00:00:00  2018-07-29 00:00:00\n",
      "7    14   OrderDate  2019-07-21 00:00:00  2018-08-15 00:00:00\n",
      "8    14     Manager              Hermann               Martha\n",
      "9    16    SalesMan                Diana            Alexander\n",
      "10   22    SalesMan                Diana                Karen\n",
      "11   33    SalesMan                Diana            Alexander\n",
      "12    1        Item          Video Games           Television\n",
      "13    4        Item                 Desk           Cell Phone\n",
      "14    7        Item                 Desk           Television\n",
      "15   12        Item          Video Games         Home Theater\n",
      "16   17        Item           Television         Home Theater\n",
      "17   20        Item           Television          Video Games\n",
      "18   26        Item                 Desk         Home Theater\n",
      "19   34        Item           Television          Video Games\n",
      "20   41        Item          Video Games         Home Theater\n",
      "21   42        Item           Television         Home Theater\n",
      "22    2       Units                   87                 50.0\n",
      "23   14       Units                   87                 35.0\n",
      "24   21       Units                   87                 67.0\n",
      "25   29       Units                   87                 96.0\n",
      "26   30       Units                    7                 53.0\n",
      "27   40       Units                    7                 14.0\n",
      "28    2  Unit_price                 58.5                500.0\n",
      "29    5  Unit_price                 58.5               1198.0\n",
      "30   19  Unit_price                 58.5                225.0\n",
      "31    2    Sale_amt               5089.5              25000.0\n",
      "32    5    Sale_amt               3276.0              67088.0\n",
      "33   14    Sale_amt             104226.0              41930.0\n",
      "34   19    Sale_amt                877.5               3375.0\n",
      "35   21    Sale_amt             104226.0              80266.0\n",
      "36   29    Sale_amt              19575.0              21600.0\n",
      "37   30    Sale_amt               8386.0              63494.0\n",
      "38   40    Sale_amt               8386.0              16772.0\n"
     ]
    }
   ],
   "source": [
    "file1 = \"data1.xlsx\"\n",
    "file2 = \"data2.xlsx\"\n",
    "mismatched_df = compare_excel_files(file1, file2)\n",
    "\n",
    "if mismatched_df is not None:\n",
    "  print(\"Mismatched data:\")\n",
    "  print(mismatched_df)"
   ]
  },
  {
   "cell_type": "code",
   "execution_count": null,
   "id": "870dfd9f-eccb-4496-b55f-2f8f7581a86f",
   "metadata": {},
   "outputs": [],
   "source": []
  }
 ],
 "metadata": {
  "kernelspec": {
   "display_name": "Python 3 (ipykernel)",
   "language": "python",
   "name": "python3"
  },
  "language_info": {
   "codemirror_mode": {
    "name": "ipython",
    "version": 3
   },
   "file_extension": ".py",
   "mimetype": "text/x-python",
   "name": "python",
   "nbconvert_exporter": "python",
   "pygments_lexer": "ipython3",
   "version": "3.12.3"
  }
 },
 "nbformat": 4,
 "nbformat_minor": 5
}
